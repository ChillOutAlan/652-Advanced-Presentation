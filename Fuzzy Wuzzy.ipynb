{
 "cells": [
  {
   "cell_type": "markdown",
   "metadata": {},
   "source": [
    "## Fuzzy Wuzzy Advanced Presentation\n",
    "### Alan Nguyen and Shivanshi Bajpai\n",
    "\n",
    "Fuzzy wuzzy is a library that uses Levenshtein Distance to calculate the differences between sequences in a simple-to-use package. This package contains many process and processes that are used to compare string similarity ratios\n",
    "\n",
    "### Installation\n",
    "Using PIP via PyPI\n",
    "\n",
    "-pip install fuzzywuzzy\n",
    "-pip install python-Levenshtein"
   ]
  },
  {
   "cell_type": "code",
   "execution_count": 2,
   "metadata": {},
   "outputs": [
    {
     "name": "stdout",
     "output_type": "stream",
     "text": [
      "82\n"
     ]
    },
    {
     "name": "stderr",
     "output_type": "stream",
     "text": [
      "c:\\users\\turto\\appdata\\local\\programs\\python\\python37-32\\lib\\site-packages\\fuzzywuzzy\\fuzz.py:11: UserWarning: Using slow pure-python SequenceMatcher. Install python-Levenshtein to remove this warning\n",
      "  warnings.warn('Using slow pure-python SequenceMatcher. Install python-Levenshtein to remove this warning')\n"
     ]
    }
   ],
   "source": [
    "# Example 1\n",
    "from fuzzywuzzy import fuzz\n",
    "from fuzzywuzzy import process\n",
    "\n",
    "# Simplest ratio\n",
    "# There are sequence Matching is a bit slow so we can install Levenshetein library to make this process go a bit faster\n",
    "print(fuzz.ratio(\"Hello World!\", \"Helloworld\"))"
   ]
  },
  {
   "cell_type": "code",
   "execution_count": 3,
   "metadata": {},
   "outputs": [
    {
     "name": "stdout",
     "output_type": "stream",
     "text": [
      "77\n",
      "89\n"
     ]
    }
   ],
   "source": [
    "# Example 2\n",
    "# Token Sort Ratio\n",
    "simple = fuzz.ratio(\"This ratio isn't that diffferent\", \"This ratio isn't ReAlly tHaT DifFerent\")\n",
    "print(simple)\n",
    "sort = fuzz.token_sort_ratio(\"This ratio isn't that diffferent\", \"ratio This isn't tHaT DifFerent ReAlly\")\n",
    "print(sort)"
   ]
  },
  {
   "cell_type": "code",
   "execution_count": 12,
   "metadata": {},
   "outputs": [
    {
     "name": "stdout",
     "output_type": "stream",
     "text": [
      "84\n",
      "100\n"
     ]
    }
   ],
   "source": [
    "#Example 3\n",
    "print(fuzz.token_sort_ratio(\"fuzzy was a bear\", \"fuzzy fuzzy was a bear\"))\n",
    "print(fuzz.token_set_ratio(\"fuzzy was a bear\", \"fuzzy fuzzy was a bear\"))\n"
   ]
  },
  {
   "cell_type": "code",
   "execution_count": 11,
   "metadata": {},
   "outputs": [
    {
     "name": "stdout",
     "output_type": "stream",
     "text": [
      "[('Pepperoni Pizza, Cheese Pizza, Double Cheeseburger, Italian Hotdogs', 60)]\n"
     ]
    },
    {
     "data": {
      "text/plain": [
       "('Pepperoni Pizza, Cheese Pizza, Double Cheeseburger, Italian Hotdogs', 60)"
      ]
     },
     "execution_count": 11,
     "metadata": {},
     "output_type": "execute_result"
    }
   ],
   "source": [
    "choices = [\"Pepperoni Pizza, Cheese Pizza, Double Cheeseburger, Italian Hotdogs\"]\n",
    "print(process.extract(\"pizza\", choices, limit=2))\n",
    "\n",
    "process.extractOne(\"cheese\", choices)\n"
   ]
  },
  {
   "cell_type": "code",
   "execution_count": null,
   "metadata": {},
   "outputs": [],
   "source": []
  }
 ],
 "metadata": {
  "kernelspec": {
   "display_name": "Python 3",
   "language": "python",
   "name": "python3"
  },
  "language_info": {
   "codemirror_mode": {
    "name": "ipython",
    "version": 3
   },
   "file_extension": ".py",
   "mimetype": "text/x-python",
   "name": "python",
   "nbconvert_exporter": "python",
   "pygments_lexer": "ipython3",
   "version": "3.7.0"
  }
 },
 "nbformat": 4,
 "nbformat_minor": 2
}
