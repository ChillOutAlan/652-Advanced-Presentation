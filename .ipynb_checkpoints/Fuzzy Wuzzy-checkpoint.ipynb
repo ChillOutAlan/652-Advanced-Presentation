{
 "cells": [
  {
   "cell_type": "markdown",
   "metadata": {},
   "source": [
    "## Fuzzy Wuzzy Advanced Presentation\n",
    "### Alan Nguyen and Shivanshi Bajpai\n",
    "\n",
    "Fuzzy wuzzy is a library that uses Levenshtein Distance to calculate the differences between sequences in a simple-to-use package. This package contains many process and processes that are used to compare string similarity ratios\n",
    "\n",
    "### Installation\n",
    "Using PIP via PyPI\n",
    "\n",
    "-pip install fuzzywuzzy\n",
    "or the following to install python-Levenshtein too\n",
    "\n",
    "- pip install fuzzywuzzy\n",
    "- git clone git://github.com/seatgeek/fuzzywuzzy.git fuzzywuzzy\n",
    "- cd fuzzywuzzy\n",
    "- python setup.py install"
   ]
  },
  {
   "cell_type": "code",
   "execution_count": 3,
   "metadata": {},
   "outputs": [
    {
     "name": "stdout",
     "output_type": "stream",
     "text": [
      "82\n"
     ]
    }
   ],
   "source": [
    "# Example 1\n",
    "from fuzzywuzzy import fuzz\n",
    "from fuzzywuzzy import process\n",
    "\n",
    "# Simplest ratio\n",
    "# There are sequence Matching is a bit slow so we can install Levenshetein library to make this process go a bit faster\n",
    "print(fuzz.ratio(\"Hello World!\", \"Helloworld\"))"
   ]
  },
  {
   "cell_type": "code",
   "execution_count": 6,
   "metadata": {},
   "outputs": [
    {
     "name": "stdout",
     "output_type": "stream",
     "text": [
      "77\n",
      "89\n"
     ]
    }
   ],
   "source": [
    "# Example 2\n",
    "# Token Sort Ratio\n",
    "simple = fuzz.ratio(\"This ratio isn't that diffferent\", \"This ratio isn't ReAlly tHaT DifFerent\")\n",
    "print(simple)\n",
    "sort = fuzz.token_sort_ratio(\"This ratio isn't that diffferent\", \"ratio This isn't tHaT DifFerent ReAlly\")\n",
    "print(sort)"
   ]
  },
  {
   "cell_type": "code",
   "execution_count": null,
   "metadata": {},
   "outputs": [],
   "source": []
  }
 ],
 "metadata": {
  "kernelspec": {
   "display_name": "Python 3",
   "language": "python",
   "name": "python3"
  },
  "language_info": {
   "codemirror_mode": {
    "name": "ipython",
    "version": 3
   },
   "file_extension": ".py",
   "mimetype": "text/x-python",
   "name": "python",
   "nbconvert_exporter": "python",
   "pygments_lexer": "ipython3",
   "version": "3.6.3"
  }
 },
 "nbformat": 4,
 "nbformat_minor": 2
}
